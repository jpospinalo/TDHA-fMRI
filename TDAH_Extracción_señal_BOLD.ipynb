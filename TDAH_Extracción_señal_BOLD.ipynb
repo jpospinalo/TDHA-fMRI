{
 "cells": [
  {
   "cell_type": "markdown",
   "id": "73cf5ecd",
   "metadata": {
    "id": "73cf5ecd"
   },
   "source": [
    "# __Extracción señal BOLD__\n",
    "\n",
    "Este muestra un flujo de trabajo para:\n",
    "\n",
    "1. Se descargan los datos preprocesados por el pipeline de Athena en la zona de NYU [(imagenes disponibles aquí)](https://https://www.nitrc.org/frs/?group_id=383)\n",
    "2. Preparar volúmenes de rs-fMRI preprocesados (espacio MNI).\n",
    "3. Extraer la señal BOLD de las imagenes\n"
   ]
  },
  {
   "cell_type": "code",
   "execution_count": 1,
   "id": "7b90a72b",
   "metadata": {
    "id": "7b90a72b"
   },
   "outputs": [],
   "source": [
    "from nilearn.image import resample_to_img\n",
    "import nibabel as nib\n",
    "import os\n",
    "import glob\n",
    "import pandas as pd\n",
    "import torch"
   ]
  },
  {
   "cell_type": "code",
   "execution_count": 2,
   "id": "8ce7a21e",
   "metadata": {
    "id": "8ce7a21e",
    "outputId": "9d1fbe40-61d4-48e9-c3bd-2a77caaad8d0"
   },
   "outputs": [
    {
     "name": "stdout",
     "output_type": "stream",
     "text": [
      "Torch CUDA available: False\n"
     ]
    }
   ],
   "source": [
    "print(\"Torch CUDA available:\", torch.cuda.is_available())"
   ]
  },
  {
   "cell_type": "code",
   "execution_count": 5,
   "id": "64a0a12d",
   "metadata": {
    "id": "64a0a12d"
   },
   "outputs": [
    {
     "ename": "FileNotFoundError",
     "evalue": "[Errno 2] No such file or directory: './NYU_preproc_part1/NYU/NYU_phenotypic.csv'",
     "output_type": "error",
     "traceback": [
      "\u001b[31m---------------------------------------------------------------------------\u001b[39m",
      "\u001b[31mFileNotFoundError\u001b[39m                         Traceback (most recent call last)",
      "\u001b[36mCell\u001b[39m\u001b[36m \u001b[39m\u001b[32mIn[5]\u001b[39m\u001b[32m, line 11\u001b[39m\n\u001b[32m      9\u001b[39m \u001b[38;5;66;03m# 2) Carga y filtra tu CSV fenotípico de NYU\u001b[39;00m\n\u001b[32m     10\u001b[39m pheno_csv = \u001b[33mr\u001b[39m\u001b[33m\"\u001b[39m\u001b[33m./NYU_preproc_part1/NYU/NYU_phenotypic.csv\u001b[39m\u001b[33m\"\u001b[39m\n\u001b[32m---> \u001b[39m\u001b[32m11\u001b[39m df_pheno  = \u001b[43mpd\u001b[49m\u001b[43m.\u001b[49m\u001b[43mread_csv\u001b[49m\u001b[43m(\u001b[49m\u001b[43mpheno_csv\u001b[49m\u001b[43m)\u001b[49m\n\u001b[32m     12\u001b[39m df_pheno  = df_pheno[[\u001b[33m\"\u001b[39m\u001b[33mScanDir ID\u001b[39m\u001b[33m\"\u001b[39m, \u001b[33m\"\u001b[39m\u001b[33mDX\u001b[39m\u001b[33m\"\u001b[39m, \u001b[33m\"\u001b[39m\u001b[33mQC_Rest_1\u001b[39m\u001b[33m\"\u001b[39m]]\n\u001b[32m     13\u001b[39m df_pheno  = df_pheno[df_pheno[\u001b[33m\"\u001b[39m\u001b[33mQC_Rest_1\u001b[39m\u001b[33m\"\u001b[39m] == \u001b[32m1\u001b[39m]  \u001b[38;5;66;03m# solo QC=1\u001b[39;00m\n",
      "\u001b[36mFile \u001b[39m\u001b[32m~/Code/TDHA-fMRI/env/lib/python3.12/site-packages/pandas/io/parsers/readers.py:1026\u001b[39m, in \u001b[36mread_csv\u001b[39m\u001b[34m(filepath_or_buffer, sep, delimiter, header, names, index_col, usecols, dtype, engine, converters, true_values, false_values, skipinitialspace, skiprows, skipfooter, nrows, na_values, keep_default_na, na_filter, verbose, skip_blank_lines, parse_dates, infer_datetime_format, keep_date_col, date_parser, date_format, dayfirst, cache_dates, iterator, chunksize, compression, thousands, decimal, lineterminator, quotechar, quoting, doublequote, escapechar, comment, encoding, encoding_errors, dialect, on_bad_lines, delim_whitespace, low_memory, memory_map, float_precision, storage_options, dtype_backend)\u001b[39m\n\u001b[32m   1013\u001b[39m kwds_defaults = _refine_defaults_read(\n\u001b[32m   1014\u001b[39m     dialect,\n\u001b[32m   1015\u001b[39m     delimiter,\n\u001b[32m   (...)\u001b[39m\u001b[32m   1022\u001b[39m     dtype_backend=dtype_backend,\n\u001b[32m   1023\u001b[39m )\n\u001b[32m   1024\u001b[39m kwds.update(kwds_defaults)\n\u001b[32m-> \u001b[39m\u001b[32m1026\u001b[39m \u001b[38;5;28;01mreturn\u001b[39;00m \u001b[43m_read\u001b[49m\u001b[43m(\u001b[49m\u001b[43mfilepath_or_buffer\u001b[49m\u001b[43m,\u001b[49m\u001b[43m \u001b[49m\u001b[43mkwds\u001b[49m\u001b[43m)\u001b[49m\n",
      "\u001b[36mFile \u001b[39m\u001b[32m~/Code/TDHA-fMRI/env/lib/python3.12/site-packages/pandas/io/parsers/readers.py:620\u001b[39m, in \u001b[36m_read\u001b[39m\u001b[34m(filepath_or_buffer, kwds)\u001b[39m\n\u001b[32m    617\u001b[39m _validate_names(kwds.get(\u001b[33m\"\u001b[39m\u001b[33mnames\u001b[39m\u001b[33m\"\u001b[39m, \u001b[38;5;28;01mNone\u001b[39;00m))\n\u001b[32m    619\u001b[39m \u001b[38;5;66;03m# Create the parser.\u001b[39;00m\n\u001b[32m--> \u001b[39m\u001b[32m620\u001b[39m parser = \u001b[43mTextFileReader\u001b[49m\u001b[43m(\u001b[49m\u001b[43mfilepath_or_buffer\u001b[49m\u001b[43m,\u001b[49m\u001b[43m \u001b[49m\u001b[43m*\u001b[49m\u001b[43m*\u001b[49m\u001b[43mkwds\u001b[49m\u001b[43m)\u001b[49m\n\u001b[32m    622\u001b[39m \u001b[38;5;28;01mif\u001b[39;00m chunksize \u001b[38;5;129;01mor\u001b[39;00m iterator:\n\u001b[32m    623\u001b[39m     \u001b[38;5;28;01mreturn\u001b[39;00m parser\n",
      "\u001b[36mFile \u001b[39m\u001b[32m~/Code/TDHA-fMRI/env/lib/python3.12/site-packages/pandas/io/parsers/readers.py:1620\u001b[39m, in \u001b[36mTextFileReader.__init__\u001b[39m\u001b[34m(self, f, engine, **kwds)\u001b[39m\n\u001b[32m   1617\u001b[39m     \u001b[38;5;28mself\u001b[39m.options[\u001b[33m\"\u001b[39m\u001b[33mhas_index_names\u001b[39m\u001b[33m\"\u001b[39m] = kwds[\u001b[33m\"\u001b[39m\u001b[33mhas_index_names\u001b[39m\u001b[33m\"\u001b[39m]\n\u001b[32m   1619\u001b[39m \u001b[38;5;28mself\u001b[39m.handles: IOHandles | \u001b[38;5;28;01mNone\u001b[39;00m = \u001b[38;5;28;01mNone\u001b[39;00m\n\u001b[32m-> \u001b[39m\u001b[32m1620\u001b[39m \u001b[38;5;28mself\u001b[39m._engine = \u001b[38;5;28;43mself\u001b[39;49m\u001b[43m.\u001b[49m\u001b[43m_make_engine\u001b[49m\u001b[43m(\u001b[49m\u001b[43mf\u001b[49m\u001b[43m,\u001b[49m\u001b[43m \u001b[49m\u001b[38;5;28;43mself\u001b[39;49m\u001b[43m.\u001b[49m\u001b[43mengine\u001b[49m\u001b[43m)\u001b[49m\n",
      "\u001b[36mFile \u001b[39m\u001b[32m~/Code/TDHA-fMRI/env/lib/python3.12/site-packages/pandas/io/parsers/readers.py:1880\u001b[39m, in \u001b[36mTextFileReader._make_engine\u001b[39m\u001b[34m(self, f, engine)\u001b[39m\n\u001b[32m   1878\u001b[39m     \u001b[38;5;28;01mif\u001b[39;00m \u001b[33m\"\u001b[39m\u001b[33mb\u001b[39m\u001b[33m\"\u001b[39m \u001b[38;5;129;01mnot\u001b[39;00m \u001b[38;5;129;01min\u001b[39;00m mode:\n\u001b[32m   1879\u001b[39m         mode += \u001b[33m\"\u001b[39m\u001b[33mb\u001b[39m\u001b[33m\"\u001b[39m\n\u001b[32m-> \u001b[39m\u001b[32m1880\u001b[39m \u001b[38;5;28mself\u001b[39m.handles = \u001b[43mget_handle\u001b[49m\u001b[43m(\u001b[49m\n\u001b[32m   1881\u001b[39m \u001b[43m    \u001b[49m\u001b[43mf\u001b[49m\u001b[43m,\u001b[49m\n\u001b[32m   1882\u001b[39m \u001b[43m    \u001b[49m\u001b[43mmode\u001b[49m\u001b[43m,\u001b[49m\n\u001b[32m   1883\u001b[39m \u001b[43m    \u001b[49m\u001b[43mencoding\u001b[49m\u001b[43m=\u001b[49m\u001b[38;5;28;43mself\u001b[39;49m\u001b[43m.\u001b[49m\u001b[43moptions\u001b[49m\u001b[43m.\u001b[49m\u001b[43mget\u001b[49m\u001b[43m(\u001b[49m\u001b[33;43m\"\u001b[39;49m\u001b[33;43mencoding\u001b[39;49m\u001b[33;43m\"\u001b[39;49m\u001b[43m,\u001b[49m\u001b[43m \u001b[49m\u001b[38;5;28;43;01mNone\u001b[39;49;00m\u001b[43m)\u001b[49m\u001b[43m,\u001b[49m\n\u001b[32m   1884\u001b[39m \u001b[43m    \u001b[49m\u001b[43mcompression\u001b[49m\u001b[43m=\u001b[49m\u001b[38;5;28;43mself\u001b[39;49m\u001b[43m.\u001b[49m\u001b[43moptions\u001b[49m\u001b[43m.\u001b[49m\u001b[43mget\u001b[49m\u001b[43m(\u001b[49m\u001b[33;43m\"\u001b[39;49m\u001b[33;43mcompression\u001b[39;49m\u001b[33;43m\"\u001b[39;49m\u001b[43m,\u001b[49m\u001b[43m \u001b[49m\u001b[38;5;28;43;01mNone\u001b[39;49;00m\u001b[43m)\u001b[49m\u001b[43m,\u001b[49m\n\u001b[32m   1885\u001b[39m \u001b[43m    \u001b[49m\u001b[43mmemory_map\u001b[49m\u001b[43m=\u001b[49m\u001b[38;5;28;43mself\u001b[39;49m\u001b[43m.\u001b[49m\u001b[43moptions\u001b[49m\u001b[43m.\u001b[49m\u001b[43mget\u001b[49m\u001b[43m(\u001b[49m\u001b[33;43m\"\u001b[39;49m\u001b[33;43mmemory_map\u001b[39;49m\u001b[33;43m\"\u001b[39;49m\u001b[43m,\u001b[49m\u001b[43m \u001b[49m\u001b[38;5;28;43;01mFalse\u001b[39;49;00m\u001b[43m)\u001b[49m\u001b[43m,\u001b[49m\n\u001b[32m   1886\u001b[39m \u001b[43m    \u001b[49m\u001b[43mis_text\u001b[49m\u001b[43m=\u001b[49m\u001b[43mis_text\u001b[49m\u001b[43m,\u001b[49m\n\u001b[32m   1887\u001b[39m \u001b[43m    \u001b[49m\u001b[43merrors\u001b[49m\u001b[43m=\u001b[49m\u001b[38;5;28;43mself\u001b[39;49m\u001b[43m.\u001b[49m\u001b[43moptions\u001b[49m\u001b[43m.\u001b[49m\u001b[43mget\u001b[49m\u001b[43m(\u001b[49m\u001b[33;43m\"\u001b[39;49m\u001b[33;43mencoding_errors\u001b[39;49m\u001b[33;43m\"\u001b[39;49m\u001b[43m,\u001b[49m\u001b[43m \u001b[49m\u001b[33;43m\"\u001b[39;49m\u001b[33;43mstrict\u001b[39;49m\u001b[33;43m\"\u001b[39;49m\u001b[43m)\u001b[49m\u001b[43m,\u001b[49m\n\u001b[32m   1888\u001b[39m \u001b[43m    \u001b[49m\u001b[43mstorage_options\u001b[49m\u001b[43m=\u001b[49m\u001b[38;5;28;43mself\u001b[39;49m\u001b[43m.\u001b[49m\u001b[43moptions\u001b[49m\u001b[43m.\u001b[49m\u001b[43mget\u001b[49m\u001b[43m(\u001b[49m\u001b[33;43m\"\u001b[39;49m\u001b[33;43mstorage_options\u001b[39;49m\u001b[33;43m\"\u001b[39;49m\u001b[43m,\u001b[49m\u001b[43m \u001b[49m\u001b[38;5;28;43;01mNone\u001b[39;49;00m\u001b[43m)\u001b[49m\u001b[43m,\u001b[49m\n\u001b[32m   1889\u001b[39m \u001b[43m\u001b[49m\u001b[43m)\u001b[49m\n\u001b[32m   1890\u001b[39m \u001b[38;5;28;01massert\u001b[39;00m \u001b[38;5;28mself\u001b[39m.handles \u001b[38;5;129;01mis\u001b[39;00m \u001b[38;5;129;01mnot\u001b[39;00m \u001b[38;5;28;01mNone\u001b[39;00m\n\u001b[32m   1891\u001b[39m f = \u001b[38;5;28mself\u001b[39m.handles.handle\n",
      "\u001b[36mFile \u001b[39m\u001b[32m~/Code/TDHA-fMRI/env/lib/python3.12/site-packages/pandas/io/common.py:873\u001b[39m, in \u001b[36mget_handle\u001b[39m\u001b[34m(path_or_buf, mode, encoding, compression, memory_map, is_text, errors, storage_options)\u001b[39m\n\u001b[32m    868\u001b[39m \u001b[38;5;28;01melif\u001b[39;00m \u001b[38;5;28misinstance\u001b[39m(handle, \u001b[38;5;28mstr\u001b[39m):\n\u001b[32m    869\u001b[39m     \u001b[38;5;66;03m# Check whether the filename is to be opened in binary mode.\u001b[39;00m\n\u001b[32m    870\u001b[39m     \u001b[38;5;66;03m# Binary mode does not support 'encoding' and 'newline'.\u001b[39;00m\n\u001b[32m    871\u001b[39m     \u001b[38;5;28;01mif\u001b[39;00m ioargs.encoding \u001b[38;5;129;01mand\u001b[39;00m \u001b[33m\"\u001b[39m\u001b[33mb\u001b[39m\u001b[33m\"\u001b[39m \u001b[38;5;129;01mnot\u001b[39;00m \u001b[38;5;129;01min\u001b[39;00m ioargs.mode:\n\u001b[32m    872\u001b[39m         \u001b[38;5;66;03m# Encoding\u001b[39;00m\n\u001b[32m--> \u001b[39m\u001b[32m873\u001b[39m         handle = \u001b[38;5;28;43mopen\u001b[39;49m\u001b[43m(\u001b[49m\n\u001b[32m    874\u001b[39m \u001b[43m            \u001b[49m\u001b[43mhandle\u001b[49m\u001b[43m,\u001b[49m\n\u001b[32m    875\u001b[39m \u001b[43m            \u001b[49m\u001b[43mioargs\u001b[49m\u001b[43m.\u001b[49m\u001b[43mmode\u001b[49m\u001b[43m,\u001b[49m\n\u001b[32m    876\u001b[39m \u001b[43m            \u001b[49m\u001b[43mencoding\u001b[49m\u001b[43m=\u001b[49m\u001b[43mioargs\u001b[49m\u001b[43m.\u001b[49m\u001b[43mencoding\u001b[49m\u001b[43m,\u001b[49m\n\u001b[32m    877\u001b[39m \u001b[43m            \u001b[49m\u001b[43merrors\u001b[49m\u001b[43m=\u001b[49m\u001b[43merrors\u001b[49m\u001b[43m,\u001b[49m\n\u001b[32m    878\u001b[39m \u001b[43m            \u001b[49m\u001b[43mnewline\u001b[49m\u001b[43m=\u001b[49m\u001b[33;43m\"\u001b[39;49m\u001b[33;43m\"\u001b[39;49m\u001b[43m,\u001b[49m\n\u001b[32m    879\u001b[39m \u001b[43m        \u001b[49m\u001b[43m)\u001b[49m\n\u001b[32m    880\u001b[39m     \u001b[38;5;28;01melse\u001b[39;00m:\n\u001b[32m    881\u001b[39m         \u001b[38;5;66;03m# Binary mode\u001b[39;00m\n\u001b[32m    882\u001b[39m         handle = \u001b[38;5;28mopen\u001b[39m(handle, ioargs.mode)\n",
      "\u001b[31mFileNotFoundError\u001b[39m: [Errno 2] No such file or directory: './NYU_preproc_part1/NYU/NYU_phenotypic.csv'"
     ]
    }
   ],
   "source": [
    "import os\n",
    "import re\n",
    "import glob\n",
    "import pandas as pd\n",
    "\n",
    "# 1) Ruta padre donde tienes las carpetas part1…part4\n",
    "base_dir = r\"./NYU_preproc_part*\"\n",
    "\n",
    "# 2) Carga y filtra tu CSV fenotípico de NYU\n",
    "pheno_csv = r\"./NYU_preproc_part1/NYU/NYU_phenotypic.csv\"\n",
    "df_pheno  = pd.read_csv(pheno_csv)\n",
    "df_pheno  = df_pheno[[\"ScanDir ID\", \"DX\", \"QC_Rest_1\"]]\n",
    "df_pheno  = df_pheno[df_pheno[\"QC_Rest_1\"] == 1]  # solo QC=1\n",
    "\n",
    "# 3) Busca recursivamente todos los NIfTI de resting state\n",
    "#    Aquí buscamos cualquier carpeta part*, luego subcarpeta NYU, luego carpetas de sujeto\n",
    "nii_paths = glob.glob(\n",
    "    os.path.join(base_dir, \"NYU\", \"*\", \"snw*session_1_rest_1.nii.gz\"),\n",
    "    recursive=True\n",
    ")"
   ]
  },
  {
   "cell_type": "markdown",
   "id": "5b8b480a",
   "metadata": {
    "id": "5b8b480a"
   },
   "source": [
    "## __Carga de datos de imágenes de NYU__"
   ]
  },
  {
   "cell_type": "markdown",
   "id": "a6cc1b27",
   "metadata": {
    "id": "a6cc1b27"
   },
   "source": [
    "0 = TDC (Typical Developmental Control), también a veces llamado TCP (Typical Control Participant).\n",
    "\n",
    "1 = ADHD combinado (Combined Type)\n",
    "\n",
    "2 = ADHD de tipo inatento (Predominantly Inattentive)\n",
    "\n",
    "3 = ADHD de tipo hiperactivo/impulsivo (Predominantly Hyperactive/Impulsive)"
   ]
  },
  {
   "cell_type": "markdown",
   "id": "17ab21bf",
   "metadata": {
    "id": "17ab21bf"
   },
   "source": [
    "## __Se usan imágenes preprocesadas con pipeline Athenas__\n",
    "\n",
    "### __Variable objetivo__ :\n",
    "\n",
    "La columna DX es la variable objetivo y codifica el diagnóstico de cada sujeto:\n",
    "\n",
    "0 = TDC (“Typical Developmental Control”): niño sano, sin diagnóstico de TDAH.\n",
    "\n",
    "1 = ADHD (“Attention-Deficit/Hyperactivity Disorder”): sujeto con diagnóstico de TDAH."
   ]
  },
  {
   "cell_type": "code",
   "execution_count": null,
   "id": "63c51662",
   "metadata": {
    "id": "63c51662"
   },
   "outputs": [],
   "source": [
    "records = []\n",
    "for p in nii_paths:\n",
    "    subj = os.path.basename(os.path.dirname(p))\n",
    "    try:\n",
    "        sid = int(subj)\n",
    "    except ValueError:\n",
    "        continue\n",
    "\n",
    "    # Comprueba el CSV fenotípico\n",
    "    row = df_pheno[df_pheno[\"ScanDir ID\"] == sid]\n",
    "    if row.empty:\n",
    "        continue\n",
    "\n",
    "    # Verifica que sea un 4D real\n",
    "    vol = nib.load(p).get_fdata()\n",
    "    if vol.ndim != 4:\n",
    "        print(f\"SKIP (ndim={vol.ndim}):\", os.path.basename(p))\n",
    "        continue\n",
    "\n",
    "    # Todo OK, guardamos\n",
    "    records.append({\n",
    "        \"ScanDir ID\": sid,\n",
    "        \"nii\": p,\n",
    "        \"label_raw\": int(row[\"DX\"].iloc[0])\n",
    "    })"
   ]
  },
  {
   "cell_type": "code",
   "execution_count": null,
   "id": "6a6bf765",
   "metadata": {
    "id": "6a6bf765",
    "outputId": "f1cc33b5-c6f3-4854-ccc2-2db3a05ac5ae"
   },
   "outputs": [
    {
     "name": "stdout",
     "output_type": "stream",
     "text": [
      "Volúmenes 4D válidos encontrados: 177\n"
     ]
    }
   ],
   "source": [
    "df_samples = pd.DataFrame(records)\n",
    "df_samples[\"label\"] = (df_samples[\"label_raw\"] > 0).astype(int)\n",
    "df_samples.drop(columns=\"label_raw\", inplace=True)\n",
    "\n",
    "print(\"Volúmenes 4D válidos encontrados:\", len(df_samples))"
   ]
  },
  {
   "cell_type": "markdown",
   "id": "4b993b26",
   "metadata": {
    "id": "4b993b26"
   },
   "source": [
    "## __División Train-Validation__\n"
   ]
  },
  {
   "cell_type": "code",
   "execution_count": null,
   "id": "99a14bd1",
   "metadata": {
    "id": "99a14bd1",
    "outputId": "9f0b1ebf-1cb3-4bea-cbb4-2c2a1075e197"
   },
   "outputs": [
    {
     "name": "stdout",
     "output_type": "stream",
     "text": [
      "Train: (141, 3)  Val: (36, 3)\n"
     ]
    }
   ],
   "source": [
    "from sklearn.model_selection import train_test_split\n",
    "train_df, val_df = train_test_split(\n",
    "    df_samples,\n",
    "    test_size=0.2,\n",
    "    stratify=df_samples[\"label\"],\n",
    "    random_state=42\n",
    ")\n",
    "print(\"Train:\", train_df.shape, \" Val:\", val_df.shape)"
   ]
  },
  {
   "cell_type": "code",
   "execution_count": null,
   "id": "f7648212",
   "metadata": {
    "id": "f7648212",
    "outputId": "31d30f45-e07b-45da-fa1d-e91c8c5c9e43"
   },
   "outputs": [
    {
     "name": "stdout",
     "output_type": "stream",
     "text": [
      "     ScanDir ID                                                nii  label\n",
      "170     8692452  .\\NYU_preproc_part4\\NYU\\8692452\\snwmrda8692452...      0\n",
      "146     3243657  .\\NYU_preproc_part4\\NYU\\3243657\\snwmrda3243657...      0\n",
      "157     4060823  .\\NYU_preproc_part4\\NYU\\4060823\\snwmrda4060823...      1\n",
      "17        10026  .\\NYU_preproc_part1\\NYU\\0010026\\snwmrda0010026...      1\n",
      "120     1934623  .\\NYU_preproc_part3\\NYU\\1934623\\snwmrda1934623...      0\n",
      "     ScanDir ID                                                nii  label\n",
      "116     1854959  .\\NYU_preproc_part3\\NYU\\1854959\\snwmrda1854959...      0\n",
      "14        10022  .\\NYU_preproc_part1\\NYU\\0010022\\snwmrda0010022...      1\n",
      "5         10008  .\\NYU_preproc_part1\\NYU\\0010008\\snwmrda0010008...      0\n",
      "154     3662296  .\\NYU_preproc_part4\\NYU\\3662296\\snwmrda3662296...      0\n",
      "97      1000804  .\\NYU_preproc_part3\\NYU\\1000804\\snwmrda1000804...      0\n"
     ]
    }
   ],
   "source": [
    "print(train_df.head())\n",
    "print(val_df.head())"
   ]
  },
  {
   "cell_type": "markdown",
   "id": "3b9f3939",
   "metadata": {
    "id": "3b9f3939"
   },
   "source": [
    "## __Preparación de las imágenes__\n",
    "\n",
    "- **Objetivo:** a partir de los ficheros `sfnwmrda<ID>_session_1_rest_*.nii.gz` extraer ventanas de tiempo que sirvan como tokens.\n",
    "- **Por qué usar ventanas:** la señal BOLD varía con el tiempo; en lugar de promediar todo el volumen (que perdería dinámica), se divide la serie en fragmentos de _W_ TRs para capturar patrones temporales."
   ]
  },
  {
   "cell_type": "markdown",
   "id": "1d3ef75b",
   "metadata": {
    "id": "1d3ef75b"
   },
   "source": [
    "## __Preparar Atlas__\n",
    "\n",
    "Se extrae la información de los 18 ROIs seleccionados"
   ]
  },
  {
   "cell_type": "code",
   "execution_count": null,
   "id": "e3668e14",
   "metadata": {
    "id": "e3668e14"
   },
   "outputs": [],
   "source": [
    "atlas_path = r\"./mis18_rois_multilabel.nii.gz\"\n",
    "#atlas_path = r\"C:\\\\Users\\\\andre\\\\Downloads\\\\MRIcroGL_windows\\\\MRIcroGL\\\\Resources\\\\atlas\\\\aal.nii.gz\""
   ]
  },
  {
   "cell_type": "code",
   "execution_count": null,
   "id": "72081fc2",
   "metadata": {
    "id": "72081fc2",
    "outputId": "2a6c6c61-acc9-45cd-9df7-a3ab6ea330cf"
   },
   "outputs": [
    {
     "name": "stderr",
     "output_type": "stream",
     "text": [
      "C:\\Users\\Ingenierias\\AppData\\Local\\Temp\\ipykernel_8388\\4005857051.py:5: FutureWarning: 'force_resample' will be set to 'True' by default in Nilearn 0.13.0.\n",
      "Use 'force_resample=True' to suppress this warning.\n",
      "  atlas_rs  = resample_to_img(atlas_img, fmri_img, interpolation=\"nearest\")\n",
      "C:\\Users\\Ingenierias\\AppData\\Local\\Temp\\ipykernel_8388\\4005857051.py:5: FutureWarning: From release 0.13.0 onwards, this function will, by default, copy the header of the input image to the output. Currently, the header is reset to the default Nifti1Header. To suppress this warning and use the new behavior, set `copy_header=True`.\n",
      "  atlas_rs  = resample_to_img(atlas_img, fmri_img, interpolation=\"nearest\")\n"
     ]
    }
   ],
   "source": [
    "atlas_img = nib.load(atlas_path)\n",
    "fmri_path = train_df.iloc[0][\"nii\"]\n",
    "fmri_img  = nib.load(fmri_path)\n",
    "# Remuestrea atlas al espacio de ese fMRI\n",
    "atlas_rs  = resample_to_img(atlas_img, fmri_img, interpolation=\"nearest\")"
   ]
  },
  {
   "cell_type": "code",
   "execution_count": null,
   "id": "36f52d28",
   "metadata": {
    "id": "36f52d28",
    "outputId": "a81c84dc-3358-45e2-8395-cb985a782453"
   },
   "outputs": [
    {
     "name": "stdout",
     "output_type": "stream",
     "text": [
      "Shape atlas remuestreado: (49, 58, 47)\n"
     ]
    }
   ],
   "source": [
    "atlas_data_rs = atlas_rs.get_fdata().astype(int)\n",
    "print(\"Shape atlas remuestreado:\", atlas_data_rs.shape)"
   ]
  },
  {
   "cell_type": "markdown",
   "id": "c2cde457",
   "metadata": {
    "id": "c2cde457"
   },
   "source": [
    "## __Segmentar por rois y tomar señal bold__"
   ]
  },
  {
   "cell_type": "code",
   "execution_count": null,
   "id": "308e727c",
   "metadata": {
    "id": "308e727c"
   },
   "outputs": [],
   "source": [
    "import numpy as np\n",
    "def zscore_per_roi(ts: np.ndarray) -> np.ndarray:\n",
    "\n",
    "    mu  = ts.mean(axis=1, keepdims=True)\n",
    "    sigma = ts.std(axis=1, keepdims=True)\n",
    "    return (ts - mu) / (sigma + 1e-6)"
   ]
  },
  {
   "cell_type": "code",
   "execution_count": null,
   "id": "e49c8550",
   "metadata": {
    "id": "e49c8550"
   },
   "outputs": [],
   "source": [
    "import nibabel as nib\n",
    "import numpy as np\n",
    "import torch\n",
    "from torch.utils.data import Dataset\n",
    "\n",
    "class PreloadedTimeseriesDataset(Dataset):\n",
    "    \"\"\"\n",
    "    Carga en RAM sólo las series ROI×T (mucho más pequeñas que los volúmenes 4D)\n",
    "    y luego extrae ventanas temporalmente sin I/O de disco en cada epoch.\n",
    "    \"\"\"\n",
    "    def __init__(self, df, atlas_data,\n",
    "                 n_rois=18,\n",
    "                 window_size=10,\n",
    "                 stride=10,\n",
    "                 transform=None,\n",
    "                 pad_short=False):\n",
    "        self.df          = df.reset_index(drop=True)\n",
    "        self.atlas       = atlas_data.astype(int)\n",
    "        self.n_rois      = n_rois\n",
    "        self.window_size = window_size\n",
    "        self.stride      = stride\n",
    "        self.transform   = transform\n",
    "        self.pad_short   = pad_short\n",
    "\n",
    "        # Precompute voxel indices per ROI\n",
    "        self.roi_idxs = {roi: np.where(self.atlas == roi)\n",
    "                         for roi in range(1, n_rois+1)}\n",
    "\n",
    "        # 1) Preload **only** the ROI time-series for each subject\n",
    "        self.ts_list = []\n",
    "        for path in self.df[\"nii\"]:\n",
    "            vol4d = nib.load(path).get_fdata()         # (X,Y,Z,T)\n",
    "            T     = vol4d.shape[3]\n",
    "            ts    = np.zeros((n_rois, T), dtype=np.float32)\n",
    "            for roi, (xs, ys, zs) in self.roi_idxs.items():\n",
    "                if xs.size == 0: continue\n",
    "                roi_vals = vol4d[xs, ys, zs, :]        # (n_voxels, T)\n",
    "                ts[roi-1,:] = roi_vals.mean(axis=0)\n",
    "            self.ts_list.append(ts)                   # guardo sólo 18×T floats\n",
    "\n",
    "        # 2) Construyo index_map de (sujeto, ventana)\n",
    "        self.index_map = []\n",
    "        for sid, ts in enumerate(self.ts_list):\n",
    "            T = ts.shape[1]\n",
    "            if T < window_size:\n",
    "                if not pad_short:\n",
    "                    continue\n",
    "                n_wins = 1\n",
    "            else:\n",
    "                n_wins = (T - window_size)//stride + 1\n",
    "            for w in range(n_wins):\n",
    "                self.index_map.append((sid, w))\n",
    "\n",
    "    def __len__(self):\n",
    "        return len(self.index_map)\n",
    "\n",
    "    def __getitem__(self, ix):\n",
    "        sid, w = self.index_map[ix]\n",
    "        ts_full = self.ts_list[sid]                 # (n_rois, T)\n",
    "        start   = w * self.stride\n",
    "        end     = start + self.window_size\n",
    "        clip    = ts_full[:, start:end]             # (n_rois, window_size)\n",
    "\n",
    "        L = clip.shape[1]\n",
    "        if L < self.window_size and self.pad_short:\n",
    "            pad_width = self.window_size - L\n",
    "            clip = np.pad(clip,\n",
    "                          ((0,0),(0,pad_width)),\n",
    "                          mode=\"constant\")\n",
    "\n",
    "        if self.transform:\n",
    "            clip = self.transform(clip)             # e.g. zscore_per_roi\n",
    "\n",
    "        x = torch.from_numpy(clip.T)                # (window_size, n_rois)\n",
    "        y = int(self.df.loc[sid, \"label\"])\n",
    "        return x, y\n"
   ]
  },
  {
   "cell_type": "code",
   "execution_count": null,
   "id": "6973df20",
   "metadata": {
    "id": "6973df20"
   },
   "outputs": [],
   "source": [
    "ts_ds_train = PreloadedTimeseriesDataset(\n",
    "    train_df, atlas_data_rs,\n",
    "    n_rois=18, window_size=5, stride=5\n",
    ")\n",
    "ts_ds_val = PreloadedTimeseriesDataset(\n",
    "    val_df, atlas_data_rs,\n",
    "    n_rois=18, window_size=5, stride=5\n",
    ")"
   ]
  },
  {
   "cell_type": "code",
   "execution_count": null,
   "id": "6a6cbd2a",
   "metadata": {
    "id": "6a6cbd2a"
   },
   "outputs": [],
   "source": [
    "train_ts_list  = ts_ds_train.ts_list    # lista de arrays (18, T_i)\n",
    "train_labels   = ts_ds_train.df[\"label\"].astype(int).tolist()\n",
    "val_ts_list    = ts_ds_val.ts_list\n",
    "val_labels     = ts_ds_val.df[\"label\"].astype(int).tolist()"
   ]
  },
  {
   "cell_type": "code",
   "execution_count": null,
   "id": "4d5ed296-6c40-41b0-a5c8-ba61754070b7",
   "metadata": {
    "id": "4d5ed296-6c40-41b0-a5c8-ba61754070b7",
    "outputId": "36c1f58e-b641-4391-b721-614ff033f7c1"
   },
   "outputs": [
    {
     "data": {
      "text/plain": [
       "array([[ 0.04317259, -0.04954503,  0.01766688, ...,  0.05415365,\n",
       "         0.13259767,  0.09897626],\n",
       "       [ 0.09979406, -0.11382271, -0.17410114, ...,  0.02388576,\n",
       "         0.20336084,  0.24766782],\n",
       "       [-0.0934531 , -0.15966724, -0.02407487, ..., -0.1358804 ,\n",
       "         0.10031461,  0.03302513],\n",
       "       ...,\n",
       "       [-0.02022906, -0.01039273, -0.2395961 , ...,  0.01562689,\n",
       "         0.02432396,  0.1516336 ],\n",
       "       [-0.05853724,  0.1764108 ,  0.08067051, ..., -0.05479547,\n",
       "        -0.16696903, -0.00838481],\n",
       "       [ 0.00571315,  0.14713496,  0.17206049, ...,  0.11502893,\n",
       "        -0.06858445, -0.02309877]], shape=(18, 172), dtype=float32)"
      ]
     },
     "execution_count": 20,
     "metadata": {},
     "output_type": "execute_result"
    }
   ],
   "source": [
    "train_ts_list[0]"
   ]
  },
  {
   "cell_type": "code",
   "execution_count": null,
   "id": "198d24b5-a6fe-4bff-a626-c309947b473c",
   "metadata": {
    "id": "198d24b5-a6fe-4bff-a626-c309947b473c"
   },
   "outputs": [],
   "source": [
    "import pandas as pd\n",
    "import numpy as np\n",
    "\n",
    "# Aplanamos cada serie de (18, 172) → (3096,)\n",
    "train_data = [ts.flatten() for ts in train_ts_list]\n",
    "val_data   = [ts.flatten() for ts in val_ts_list]\n",
    "\n",
    "# Agregamos la columna de la etiqueta\n",
    "train_rows = [np.append(ts, label) for ts, label in zip(train_data, train_labels)]\n",
    "val_rows   = [np.append(ts, label) for ts, label in zip(val_data, val_labels)]\n",
    "\n",
    "# Creamos los DataFrames\n",
    "df_train = pd.DataFrame(train_rows)\n",
    "df_val   = pd.DataFrame(val_rows)\n",
    "\n",
    "column_names = [f\"col_{i}\" for i in range(18 * 172)] + [\"label\"]\n",
    "df_train.columns = column_names\n",
    "df_val.columns   = column_names\n",
    "\n",
    "# Guardamos a CSV\n",
    "df_train.to_csv(\"train_timeseries.csv\", index=False)\n",
    "df_val.to_csv(\"val_timeseries.csv\", index=False)\n"
   ]
  }
 ],
 "metadata": {
  "colab": {
   "provenance": [],
   "toc_visible": true
  },
  "kernelspec": {
   "display_name": "Python 3 (ipykernel)",
   "language": "python",
   "name": "python3"
  },
  "language_info": {
   "codemirror_mode": {
    "name": "ipython",
    "version": 3
   },
   "file_extension": ".py",
   "mimetype": "text/x-python",
   "name": "python",
   "nbconvert_exporter": "python",
   "pygments_lexer": "ipython3",
   "version": "3.12.3"
  }
 },
 "nbformat": 4,
 "nbformat_minor": 5
}
